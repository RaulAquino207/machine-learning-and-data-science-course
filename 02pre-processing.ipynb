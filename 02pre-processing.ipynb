{
 "cells": [
  {
   "cell_type": "code",
   "execution_count": 10,
   "metadata": {},
   "outputs": [],
   "source": [
    "import pandas as pd\n",
    "import numpy as np"
   ]
  },
  {
   "cell_type": "markdown",
   "metadata": {},
   "source": [
    "# Treatment of inconsistent values"
   ]
  },
  {
   "cell_type": "code",
   "execution_count": 11,
   "metadata": {
    "scrolled": true
   },
   "outputs": [],
   "source": [
    "dataframe = pd.read_csv('./datasets/credit_data.csv')"
   ]
  },
  {
   "cell_type": "code",
   "execution_count": 12,
   "metadata": {},
   "outputs": [
    {
     "data": {
      "text/html": [
       "<div>\n",
       "<style scoped>\n",
       "    .dataframe tbody tr th:only-of-type {\n",
       "        vertical-align: middle;\n",
       "    }\n",
       "\n",
       "    .dataframe tbody tr th {\n",
       "        vertical-align: top;\n",
       "    }\n",
       "\n",
       "    .dataframe thead th {\n",
       "        text-align: right;\n",
       "    }\n",
       "</style>\n",
       "<table border=\"1\" class=\"dataframe\">\n",
       "  <thead>\n",
       "    <tr style=\"text-align: right;\">\n",
       "      <th></th>\n",
       "      <th>clientid</th>\n",
       "      <th>income</th>\n",
       "      <th>age</th>\n",
       "      <th>loan</th>\n",
       "      <th>default</th>\n",
       "    </tr>\n",
       "  </thead>\n",
       "  <tbody>\n",
       "    <tr>\n",
       "      <th>count</th>\n",
       "      <td>2000.000000</td>\n",
       "      <td>2000.000000</td>\n",
       "      <td>1997.000000</td>\n",
       "      <td>2000.000000</td>\n",
       "      <td>2000.000000</td>\n",
       "    </tr>\n",
       "    <tr>\n",
       "      <th>mean</th>\n",
       "      <td>1000.500000</td>\n",
       "      <td>45331.600018</td>\n",
       "      <td>40.807559</td>\n",
       "      <td>4444.369695</td>\n",
       "      <td>0.141500</td>\n",
       "    </tr>\n",
       "    <tr>\n",
       "      <th>std</th>\n",
       "      <td>577.494589</td>\n",
       "      <td>14326.327119</td>\n",
       "      <td>13.624469</td>\n",
       "      <td>3045.410024</td>\n",
       "      <td>0.348624</td>\n",
       "    </tr>\n",
       "    <tr>\n",
       "      <th>min</th>\n",
       "      <td>1.000000</td>\n",
       "      <td>20014.489470</td>\n",
       "      <td>-52.423280</td>\n",
       "      <td>1.377630</td>\n",
       "      <td>0.000000</td>\n",
       "    </tr>\n",
       "    <tr>\n",
       "      <th>25%</th>\n",
       "      <td>500.750000</td>\n",
       "      <td>32796.459717</td>\n",
       "      <td>28.990415</td>\n",
       "      <td>1939.708847</td>\n",
       "      <td>0.000000</td>\n",
       "    </tr>\n",
       "    <tr>\n",
       "      <th>50%</th>\n",
       "      <td>1000.500000</td>\n",
       "      <td>45789.117313</td>\n",
       "      <td>41.317159</td>\n",
       "      <td>3974.719419</td>\n",
       "      <td>0.000000</td>\n",
       "    </tr>\n",
       "    <tr>\n",
       "      <th>75%</th>\n",
       "      <td>1500.250000</td>\n",
       "      <td>57791.281668</td>\n",
       "      <td>52.587040</td>\n",
       "      <td>6432.410625</td>\n",
       "      <td>0.000000</td>\n",
       "    </tr>\n",
       "    <tr>\n",
       "      <th>max</th>\n",
       "      <td>2000.000000</td>\n",
       "      <td>69995.685578</td>\n",
       "      <td>63.971796</td>\n",
       "      <td>13766.051239</td>\n",
       "      <td>1.000000</td>\n",
       "    </tr>\n",
       "  </tbody>\n",
       "</table>\n",
       "</div>"
      ],
      "text/plain": [
       "          clientid        income          age          loan      default\n",
       "count  2000.000000   2000.000000  1997.000000   2000.000000  2000.000000\n",
       "mean   1000.500000  45331.600018    40.807559   4444.369695     0.141500\n",
       "std     577.494589  14326.327119    13.624469   3045.410024     0.348624\n",
       "min       1.000000  20014.489470   -52.423280      1.377630     0.000000\n",
       "25%     500.750000  32796.459717    28.990415   1939.708847     0.000000\n",
       "50%    1000.500000  45789.117313    41.317159   3974.719419     0.000000\n",
       "75%    1500.250000  57791.281668    52.587040   6432.410625     0.000000\n",
       "max    2000.000000  69995.685578    63.971796  13766.051239     1.000000"
      ]
     },
     "execution_count": 12,
     "metadata": {},
     "output_type": "execute_result"
    }
   ],
   "source": [
    "dataframe.describe()"
   ]
  },
  {
   "cell_type": "code",
   "execution_count": 13,
   "metadata": {},
   "outputs": [
    {
     "data": {
      "text/html": [
       "<div>\n",
       "<style scoped>\n",
       "    .dataframe tbody tr th:only-of-type {\n",
       "        vertical-align: middle;\n",
       "    }\n",
       "\n",
       "    .dataframe tbody tr th {\n",
       "        vertical-align: top;\n",
       "    }\n",
       "\n",
       "    .dataframe thead th {\n",
       "        text-align: right;\n",
       "    }\n",
       "</style>\n",
       "<table border=\"1\" class=\"dataframe\">\n",
       "  <thead>\n",
       "    <tr style=\"text-align: right;\">\n",
       "      <th></th>\n",
       "      <th>clientid</th>\n",
       "      <th>income</th>\n",
       "      <th>age</th>\n",
       "      <th>loan</th>\n",
       "      <th>default</th>\n",
       "    </tr>\n",
       "  </thead>\n",
       "  <tbody>\n",
       "    <tr>\n",
       "      <th>15</th>\n",
       "      <td>16</td>\n",
       "      <td>50501.726689</td>\n",
       "      <td>-28.218361</td>\n",
       "      <td>3977.287432</td>\n",
       "      <td>0</td>\n",
       "    </tr>\n",
       "    <tr>\n",
       "      <th>21</th>\n",
       "      <td>22</td>\n",
       "      <td>32197.620701</td>\n",
       "      <td>-52.423280</td>\n",
       "      <td>4244.057136</td>\n",
       "      <td>0</td>\n",
       "    </tr>\n",
       "    <tr>\n",
       "      <th>26</th>\n",
       "      <td>27</td>\n",
       "      <td>63287.038908</td>\n",
       "      <td>-36.496976</td>\n",
       "      <td>9595.286289</td>\n",
       "      <td>0</td>\n",
       "    </tr>\n",
       "  </tbody>\n",
       "</table>\n",
       "</div>"
      ],
      "text/plain": [
       "    clientid        income        age         loan  default\n",
       "15        16  50501.726689 -28.218361  3977.287432        0\n",
       "21        22  32197.620701 -52.423280  4244.057136        0\n",
       "26        27  63287.038908 -36.496976  9595.286289        0"
      ]
     },
     "execution_count": 13,
     "metadata": {},
     "output_type": "execute_result"
    }
   ],
   "source": [
    "'''\n",
    "As we can see at an age with negative values and that is incorrect, through the loc function, \n",
    "we can find these lines with the wrong values.\n",
    "'''\n",
    "dataframe.loc[dataframe['age'] < 0]"
   ]
  },
  {
   "cell_type": "code",
   "execution_count": 14,
   "metadata": {},
   "outputs": [
    {
     "data": {
      "text/html": [
       "<div>\n",
       "<style scoped>\n",
       "    .dataframe tbody tr th:only-of-type {\n",
       "        vertical-align: middle;\n",
       "    }\n",
       "\n",
       "    .dataframe tbody tr th {\n",
       "        vertical-align: top;\n",
       "    }\n",
       "\n",
       "    .dataframe thead th {\n",
       "        text-align: right;\n",
       "    }\n",
       "</style>\n",
       "<table border=\"1\" class=\"dataframe\">\n",
       "  <thead>\n",
       "    <tr style=\"text-align: right;\">\n",
       "      <th></th>\n",
       "      <th>clientid</th>\n",
       "      <th>income</th>\n",
       "      <th>age</th>\n",
       "      <th>loan</th>\n",
       "      <th>default</th>\n",
       "    </tr>\n",
       "  </thead>\n",
       "  <tbody>\n",
       "  </tbody>\n",
       "</table>\n",
       "</div>"
      ],
      "text/plain": [
       "Empty DataFrame\n",
       "Columns: [clientid, income, age, loan, default]\n",
       "Index: []"
      ]
     },
     "execution_count": 14,
     "metadata": {},
     "output_type": "execute_result"
    }
   ],
   "source": [
    "'''\n",
    "How to solve this problem.\n",
    "\n",
    "In this way we will exclude the entire age column, which is not a good solution.\n",
    "dataframe.drop('age', 1, inplace=True)\n",
    "\n",
    "And this way we will exclude only the lines with problematic values.\n",
    "dataframe.drop(dataframe[dataframe.age < 0].index, inplace=True).\n",
    "'''\n",
    "dataframe.drop(dataframe[dataframe.age < 0].index, inplace=True)\n",
    "dataframe.loc[dataframe['age'] < 0]"
   ]
  },
  {
   "cell_type": "code",
   "execution_count": 15,
   "metadata": {},
   "outputs": [
    {
     "name": "stdout",
     "output_type": "stream",
     "text": [
      "negative age values\n",
      "    clientid        income        age         loan  default\n",
      "15        16  50501.726689 -28.218361  3977.287432        0\n",
      "21        22  32197.620701 -52.423280  4244.057136        0\n",
      "26        27  63287.038908 -36.496976  9595.286289        0\n",
      "\n",
      "\n",
      "Average of values WITH and WITHOUT negative values\n",
      "40.80755937840458\n",
      "40.92770044906149\n",
      "\n",
      "\n",
      "Showing only the values in which they were negative and are now with the DF average value\n",
      "    clientid        income      age         loan  default\n",
      "15        16  50501.726689  40.9277  3977.287432        0\n",
      "21        22  32197.620701  40.9277  4244.057136        0\n",
      "26        27  63287.038908  40.9277  9595.286289        0\n"
     ]
    }
   ],
   "source": [
    "'''\n",
    "Loading the dataset again to return the previously removed negative values.\n",
    "'''\n",
    "dataframe = pd.read_csv('./datasets/credit_data.csv')\n",
    "print('negative age values')\n",
    "print(dataframe.loc[dataframe['age'] < 0])\n",
    "\n",
    "'''\n",
    "Another solution would be to replace the age values of these people who are negative,\n",
    "for the mean of all ages present in the data set (excluding negative values from the mean).\n",
    "'''\n",
    "print('\\n')\n",
    "print('Average of values WITH and WITHOUT negative values')\n",
    "print(dataframe['age'].mean())\n",
    "print(dataframe['age'][dataframe.age > 0].mean())\n",
    "mean_df = dataframe['age'][dataframe.age > 0].mean()\n",
    "dataframe.loc[dataframe.age < 0, 'age'] = mean_df\n",
    "print('\\n')\n",
    "print('Showing only the values in which they were negative and are now with the DF average value')\n",
    "print(dataframe.loc[dataframe['age'] == mean_df])"
   ]
  },
  {
   "cell_type": "code",
   "execution_count": 16,
   "metadata": {},
   "outputs": [
    {
     "name": "stdout",
     "output_type": "stream",
     "text": [
      "negative age values\n",
      "    clientid        income        age         loan  default\n",
      "15        16  50501.726689 -28.218361  3977.287432        0\n",
      "21        22  32197.620701 -52.423280  4244.057136        0\n",
      "26        27  63287.038908 -36.496976  9595.286289        0\n",
      "\n",
      "\n",
      "Dataframe with negative age values multiplied by -1\n",
      "    clientid        income        age         loan  default\n",
      "15        16  50501.726689  28.218361  3977.287432        0\n",
      "    clientid        income       age         loan  default\n",
      "21        22  32197.620701  52.42328  4244.057136        0\n",
      "    clientid        income        age         loan  default\n",
      "26        27  63287.038908  36.496976  9595.286289        0\n"
     ]
    }
   ],
   "source": [
    "'''\n",
    "Loading the dataset again to return the previously removed negative values.\n",
    "'''\n",
    "dataframe = pd.read_csv('./datasets/credit_data.csv')\n",
    "print('negative age values')\n",
    "print(dataframe.loc[dataframe['age'] < 0])\n",
    "'''\n",
    "Now an idea that I had that the course teacher did not give, \n",
    "which consists of taking each of the values and multiplying them by -1.\n",
    "'''\n",
    "indexs = dataframe.loc[dataframe.age < 0].index\n",
    "ages = dataframe.loc[dataframe.age < 0]['age']\n",
    "print('\\n')\n",
    "print('Dataframe with negative age values multiplied by -1')\n",
    "for i in indexs:\n",
    "    dataframe.loc[dataframe.index == i, 'age'] = ages[i] * (-1)\n",
    "    print(dataframe.loc[dataframe.index == i])"
   ]
  },
  {
   "cell_type": "markdown",
   "metadata": {},
   "source": [
    "# Handling of missing values"
   ]
  },
  {
   "cell_type": "code",
   "execution_count": 17,
   "metadata": {},
   "outputs": [
    {
     "data": {
      "text/html": [
       "<div>\n",
       "<style scoped>\n",
       "    .dataframe tbody tr th:only-of-type {\n",
       "        vertical-align: middle;\n",
       "    }\n",
       "\n",
       "    .dataframe tbody tr th {\n",
       "        vertical-align: top;\n",
       "    }\n",
       "\n",
       "    .dataframe thead th {\n",
       "        text-align: right;\n",
       "    }\n",
       "</style>\n",
       "<table border=\"1\" class=\"dataframe\">\n",
       "  <thead>\n",
       "    <tr style=\"text-align: right;\">\n",
       "      <th></th>\n",
       "      <th>clientid</th>\n",
       "      <th>income</th>\n",
       "      <th>age</th>\n",
       "      <th>loan</th>\n",
       "      <th>default</th>\n",
       "    </tr>\n",
       "  </thead>\n",
       "  <tbody>\n",
       "    <tr>\n",
       "      <th>28</th>\n",
       "      <td>29</td>\n",
       "      <td>59417.805406</td>\n",
       "      <td>NaN</td>\n",
       "      <td>2082.625938</td>\n",
       "      <td>0</td>\n",
       "    </tr>\n",
       "    <tr>\n",
       "      <th>30</th>\n",
       "      <td>31</td>\n",
       "      <td>48528.852796</td>\n",
       "      <td>NaN</td>\n",
       "      <td>6155.784670</td>\n",
       "      <td>0</td>\n",
       "    </tr>\n",
       "    <tr>\n",
       "      <th>31</th>\n",
       "      <td>32</td>\n",
       "      <td>23526.302555</td>\n",
       "      <td>NaN</td>\n",
       "      <td>2862.010139</td>\n",
       "      <td>0</td>\n",
       "    </tr>\n",
       "  </tbody>\n",
       "</table>\n",
       "</div>"
      ],
      "text/plain": [
       "    clientid        income  age         loan  default\n",
       "28        29  59417.805406  NaN  2082.625938        0\n",
       "30        31  48528.852796  NaN  6155.784670        0\n",
       "31        32  23526.302555  NaN  2862.010139        0"
      ]
     },
     "execution_count": 17,
     "metadata": {},
     "output_type": "execute_result"
    }
   ],
   "source": [
    "dataframe = pd.read_csv('./datasets/credit_data.csv')\n",
    "dataframe.loc[pd.isnull(dataframe['age'])]"
   ]
  },
  {
   "cell_type": "code",
   "execution_count": 18,
   "metadata": {},
   "outputs": [
    {
     "name": "stdout",
     "output_type": "stream",
     "text": [
      "-------------- predict --------------\n",
      "[[6.61559251e+04 5.90170151e+01 8.10653213e+03]\n",
      " [3.44151540e+04 4.81171531e+01 6.56474502e+03]\n",
      " [5.73171701e+04 6.31080495e+01 8.02095330e+03]\n",
      " ...\n",
      " [4.43114493e+04 2.80171669e+01 5.52278669e+03]\n",
      " [4.37560566e+04 6.39717958e+01 1.62272260e+03]\n",
      " [6.94365796e+04 5.61526170e+01 7.37883360e+03]]\n",
      "\n",
      "\n",
      "-------------- classes --------------\n",
      "[0 0 0 ... 1 0 0]\n"
     ]
    }
   ],
   "source": [
    "'''\n",
    "We can see that there are ages with missing values so we need to make a certain type of prediction to know \n",
    "what the age of these people could be.\n",
    "'''\n",
    "predict = dataframe.iloc[:, 1:4].values\n",
    "print('-------------- predict --------------')\n",
    "print(predict)\n",
    "classes = dataframe.iloc[:, 4].values\n",
    "print('\\n')\n",
    "print('-------------- classes --------------')\n",
    "print(classes)"
   ]
  },
  {
   "cell_type": "code",
   "execution_count": 19,
   "metadata": {},
   "outputs": [
    {
     "data": {
      "text/plain": [
       "[(), ()]"
      ]
     },
     "execution_count": 19,
     "metadata": {},
     "output_type": "execute_result"
    }
   ],
   "source": [
    "#In this way we will remove the NaN values from our predictions\n",
    "from sklearn.impute import SimpleImputer\n",
    "imputer = SimpleImputer(missing_values = np.nan,strategy='mean')\n",
    "imputer = imputer.fit(predict[:, 0:3])\n",
    "predict[:, 0:3] = imputer.transform(predict[:, 0:3])\n",
    "\n",
    "#Checking if there are still nan values inside the predicts\n",
    "list(map(tuple, np.where(np.isnan(predict))))"
   ]
  },
  {
   "cell_type": "markdown",
   "metadata": {},
   "source": [
    "# Scaling of attributes\n",
    "### Padronização (Standardisation)\n",
    "<img src=\"https://latex.codecogs.com/png.latex?x&space;=&space;\\frac{x&space;-&space;mean(x)}{standard&space;deviation}\" title=\"x = \\frac{x - mean(x)}{standard deviation}\" />\n",
    "\n",
    "### Normalização (Normalization)\n",
    "<img src=\"https://latex.codecogs.com/png.latex?x&space;=&space;\\frac{x&space;-&space;minimum(x)}{maximum(x)&space;-&space;minimum(x)}\" title=\"x = \\frac{x - minimum(x)}{maximum(x) - minimum(x)}\" />"
   ]
  },
  {
   "cell_type": "code",
   "execution_count": 20,
   "metadata": {},
   "outputs": [
    {
     "data": {
      "text/plain": [
       "array([[ 1.45393393,  1.33786439,  1.20281942],\n",
       "       [-0.76217555,  0.53704215,  0.69642695],\n",
       "       [ 0.83682073,  1.63843621,  1.17471147],\n",
       "       ...,\n",
       "       [-0.07122592, -0.93972115,  0.35420081],\n",
       "       [-0.11000289,  1.7018964 , -0.92675625],\n",
       "       [ 1.682986  ,  1.1274146 ,  0.96381038]])"
      ]
     },
     "execution_count": 20,
     "metadata": {},
     "output_type": "execute_result"
    }
   ],
   "source": [
    "'''\n",
    "Sometimes a very large difference between the values can cause problems in the execution of the algorithm \n",
    "(ex: the income value is much greater than the age value), a way to get around this problem would be to scale the values, \n",
    "this way the values will have the same importance for the algorithms.\n",
    "'''\n",
    "from sklearn import preprocessing\n",
    "scaler = preprocessing.StandardScaler().fit(predict)\n",
    "predict = scaler.transform(predict)\n",
    "predict"
   ]
  },
  {
   "cell_type": "code",
   "execution_count": 21,
   "metadata": {},
   "outputs": [
    {
     "name": "stdout",
     "output_type": "stream",
     "text": [
      "(32561, 15)\n"
     ]
    },
    {
     "data": {
      "text/html": [
       "<div>\n",
       "<style scoped>\n",
       "    .dataframe tbody tr th:only-of-type {\n",
       "        vertical-align: middle;\n",
       "    }\n",
       "\n",
       "    .dataframe tbody tr th {\n",
       "        vertical-align: top;\n",
       "    }\n",
       "\n",
       "    .dataframe thead th {\n",
       "        text-align: right;\n",
       "    }\n",
       "</style>\n",
       "<table border=\"1\" class=\"dataframe\">\n",
       "  <thead>\n",
       "    <tr style=\"text-align: right;\">\n",
       "      <th></th>\n",
       "      <th>age</th>\n",
       "      <th>workclass</th>\n",
       "      <th>final-weight</th>\n",
       "      <th>education</th>\n",
       "      <th>education-num</th>\n",
       "      <th>marital-status</th>\n",
       "      <th>occupation</th>\n",
       "      <th>relationship</th>\n",
       "      <th>race</th>\n",
       "      <th>sex</th>\n",
       "      <th>capital-gain</th>\n",
       "      <th>capital-loos</th>\n",
       "      <th>hour-per-week</th>\n",
       "      <th>native-country</th>\n",
       "      <th>income</th>\n",
       "    </tr>\n",
       "  </thead>\n",
       "  <tbody>\n",
       "    <tr>\n",
       "      <th>0</th>\n",
       "      <td>39</td>\n",
       "      <td>State-gov</td>\n",
       "      <td>77516</td>\n",
       "      <td>Bachelors</td>\n",
       "      <td>13</td>\n",
       "      <td>Never-married</td>\n",
       "      <td>Adm-clerical</td>\n",
       "      <td>Not-in-family</td>\n",
       "      <td>White</td>\n",
       "      <td>Male</td>\n",
       "      <td>2174</td>\n",
       "      <td>0</td>\n",
       "      <td>40</td>\n",
       "      <td>United-States</td>\n",
       "      <td>&lt;=50K</td>\n",
       "    </tr>\n",
       "    <tr>\n",
       "      <th>1</th>\n",
       "      <td>50</td>\n",
       "      <td>Self-emp-not-inc</td>\n",
       "      <td>83311</td>\n",
       "      <td>Bachelors</td>\n",
       "      <td>13</td>\n",
       "      <td>Married-civ-spouse</td>\n",
       "      <td>Exec-managerial</td>\n",
       "      <td>Husband</td>\n",
       "      <td>White</td>\n",
       "      <td>Male</td>\n",
       "      <td>0</td>\n",
       "      <td>0</td>\n",
       "      <td>13</td>\n",
       "      <td>United-States</td>\n",
       "      <td>&lt;=50K</td>\n",
       "    </tr>\n",
       "    <tr>\n",
       "      <th>2</th>\n",
       "      <td>38</td>\n",
       "      <td>Private</td>\n",
       "      <td>215646</td>\n",
       "      <td>HS-grad</td>\n",
       "      <td>9</td>\n",
       "      <td>Divorced</td>\n",
       "      <td>Handlers-cleaners</td>\n",
       "      <td>Not-in-family</td>\n",
       "      <td>White</td>\n",
       "      <td>Male</td>\n",
       "      <td>0</td>\n",
       "      <td>0</td>\n",
       "      <td>40</td>\n",
       "      <td>United-States</td>\n",
       "      <td>&lt;=50K</td>\n",
       "    </tr>\n",
       "    <tr>\n",
       "      <th>3</th>\n",
       "      <td>53</td>\n",
       "      <td>Private</td>\n",
       "      <td>234721</td>\n",
       "      <td>11th</td>\n",
       "      <td>7</td>\n",
       "      <td>Married-civ-spouse</td>\n",
       "      <td>Handlers-cleaners</td>\n",
       "      <td>Husband</td>\n",
       "      <td>Black</td>\n",
       "      <td>Male</td>\n",
       "      <td>0</td>\n",
       "      <td>0</td>\n",
       "      <td>40</td>\n",
       "      <td>United-States</td>\n",
       "      <td>&lt;=50K</td>\n",
       "    </tr>\n",
       "    <tr>\n",
       "      <th>4</th>\n",
       "      <td>28</td>\n",
       "      <td>Private</td>\n",
       "      <td>338409</td>\n",
       "      <td>Bachelors</td>\n",
       "      <td>13</td>\n",
       "      <td>Married-civ-spouse</td>\n",
       "      <td>Prof-specialty</td>\n",
       "      <td>Wife</td>\n",
       "      <td>Black</td>\n",
       "      <td>Female</td>\n",
       "      <td>0</td>\n",
       "      <td>0</td>\n",
       "      <td>40</td>\n",
       "      <td>Cuba</td>\n",
       "      <td>&lt;=50K</td>\n",
       "    </tr>\n",
       "    <tr>\n",
       "      <th>...</th>\n",
       "      <td>...</td>\n",
       "      <td>...</td>\n",
       "      <td>...</td>\n",
       "      <td>...</td>\n",
       "      <td>...</td>\n",
       "      <td>...</td>\n",
       "      <td>...</td>\n",
       "      <td>...</td>\n",
       "      <td>...</td>\n",
       "      <td>...</td>\n",
       "      <td>...</td>\n",
       "      <td>...</td>\n",
       "      <td>...</td>\n",
       "      <td>...</td>\n",
       "      <td>...</td>\n",
       "    </tr>\n",
       "    <tr>\n",
       "      <th>32556</th>\n",
       "      <td>27</td>\n",
       "      <td>Private</td>\n",
       "      <td>257302</td>\n",
       "      <td>Assoc-acdm</td>\n",
       "      <td>12</td>\n",
       "      <td>Married-civ-spouse</td>\n",
       "      <td>Tech-support</td>\n",
       "      <td>Wife</td>\n",
       "      <td>White</td>\n",
       "      <td>Female</td>\n",
       "      <td>0</td>\n",
       "      <td>0</td>\n",
       "      <td>38</td>\n",
       "      <td>United-States</td>\n",
       "      <td>&lt;=50K</td>\n",
       "    </tr>\n",
       "    <tr>\n",
       "      <th>32557</th>\n",
       "      <td>40</td>\n",
       "      <td>Private</td>\n",
       "      <td>154374</td>\n",
       "      <td>HS-grad</td>\n",
       "      <td>9</td>\n",
       "      <td>Married-civ-spouse</td>\n",
       "      <td>Machine-op-inspct</td>\n",
       "      <td>Husband</td>\n",
       "      <td>White</td>\n",
       "      <td>Male</td>\n",
       "      <td>0</td>\n",
       "      <td>0</td>\n",
       "      <td>40</td>\n",
       "      <td>United-States</td>\n",
       "      <td>&gt;50K</td>\n",
       "    </tr>\n",
       "    <tr>\n",
       "      <th>32558</th>\n",
       "      <td>58</td>\n",
       "      <td>Private</td>\n",
       "      <td>151910</td>\n",
       "      <td>HS-grad</td>\n",
       "      <td>9</td>\n",
       "      <td>Widowed</td>\n",
       "      <td>Adm-clerical</td>\n",
       "      <td>Unmarried</td>\n",
       "      <td>White</td>\n",
       "      <td>Female</td>\n",
       "      <td>0</td>\n",
       "      <td>0</td>\n",
       "      <td>40</td>\n",
       "      <td>United-States</td>\n",
       "      <td>&lt;=50K</td>\n",
       "    </tr>\n",
       "    <tr>\n",
       "      <th>32559</th>\n",
       "      <td>22</td>\n",
       "      <td>Private</td>\n",
       "      <td>201490</td>\n",
       "      <td>HS-grad</td>\n",
       "      <td>9</td>\n",
       "      <td>Never-married</td>\n",
       "      <td>Adm-clerical</td>\n",
       "      <td>Own-child</td>\n",
       "      <td>White</td>\n",
       "      <td>Male</td>\n",
       "      <td>0</td>\n",
       "      <td>0</td>\n",
       "      <td>20</td>\n",
       "      <td>United-States</td>\n",
       "      <td>&lt;=50K</td>\n",
       "    </tr>\n",
       "    <tr>\n",
       "      <th>32560</th>\n",
       "      <td>52</td>\n",
       "      <td>Self-emp-inc</td>\n",
       "      <td>287927</td>\n",
       "      <td>HS-grad</td>\n",
       "      <td>9</td>\n",
       "      <td>Married-civ-spouse</td>\n",
       "      <td>Exec-managerial</td>\n",
       "      <td>Wife</td>\n",
       "      <td>White</td>\n",
       "      <td>Female</td>\n",
       "      <td>15024</td>\n",
       "      <td>0</td>\n",
       "      <td>40</td>\n",
       "      <td>United-States</td>\n",
       "      <td>&gt;50K</td>\n",
       "    </tr>\n",
       "  </tbody>\n",
       "</table>\n",
       "<p>32561 rows × 15 columns</p>\n",
       "</div>"
      ],
      "text/plain": [
       "       age          workclass  final-weight    education  education-num  \\\n",
       "0       39          State-gov         77516    Bachelors             13   \n",
       "1       50   Self-emp-not-inc         83311    Bachelors             13   \n",
       "2       38            Private        215646      HS-grad              9   \n",
       "3       53            Private        234721         11th              7   \n",
       "4       28            Private        338409    Bachelors             13   \n",
       "...    ...                ...           ...          ...            ...   \n",
       "32556   27            Private        257302   Assoc-acdm             12   \n",
       "32557   40            Private        154374      HS-grad              9   \n",
       "32558   58            Private        151910      HS-grad              9   \n",
       "32559   22            Private        201490      HS-grad              9   \n",
       "32560   52       Self-emp-inc        287927      HS-grad              9   \n",
       "\n",
       "            marital-status          occupation    relationship    race  \\\n",
       "0            Never-married        Adm-clerical   Not-in-family   White   \n",
       "1       Married-civ-spouse     Exec-managerial         Husband   White   \n",
       "2                 Divorced   Handlers-cleaners   Not-in-family   White   \n",
       "3       Married-civ-spouse   Handlers-cleaners         Husband   Black   \n",
       "4       Married-civ-spouse      Prof-specialty            Wife   Black   \n",
       "...                    ...                 ...             ...     ...   \n",
       "32556   Married-civ-spouse        Tech-support            Wife   White   \n",
       "32557   Married-civ-spouse   Machine-op-inspct         Husband   White   \n",
       "32558              Widowed        Adm-clerical       Unmarried   White   \n",
       "32559        Never-married        Adm-clerical       Own-child   White   \n",
       "32560   Married-civ-spouse     Exec-managerial            Wife   White   \n",
       "\n",
       "           sex  capital-gain  capital-loos  hour-per-week  native-country  \\\n",
       "0         Male          2174             0             40   United-States   \n",
       "1         Male             0             0             13   United-States   \n",
       "2         Male             0             0             40   United-States   \n",
       "3         Male             0             0             40   United-States   \n",
       "4       Female             0             0             40            Cuba   \n",
       "...        ...           ...           ...            ...             ...   \n",
       "32556   Female             0             0             38   United-States   \n",
       "32557     Male             0             0             40   United-States   \n",
       "32558   Female             0             0             40   United-States   \n",
       "32559     Male             0             0             20   United-States   \n",
       "32560   Female         15024             0             40   United-States   \n",
       "\n",
       "       income  \n",
       "0       <=50K  \n",
       "1       <=50K  \n",
       "2       <=50K  \n",
       "3       <=50K  \n",
       "4       <=50K  \n",
       "...       ...  \n",
       "32556   <=50K  \n",
       "32557    >50K  \n",
       "32558   <=50K  \n",
       "32559   <=50K  \n",
       "32560    >50K  \n",
       "\n",
       "[32561 rows x 15 columns]"
      ]
     },
     "execution_count": 21,
     "metadata": {},
     "output_type": "execute_result"
    }
   ],
   "source": [
    "'''\n",
    "Now after learning some pre-processing techniques, we will work with more complex datasets taken from the site:\n",
    "https://archive.ics.uci.edu/ml/index.php\n",
    "\n",
    "More specifically this dataset:\n",
    "https://archive.ics.uci.edu/ml/datasets/Adult\n",
    "'''\n",
    "dataframe_adult = pd.read_csv('./datasets/census.csv')\n",
    "print(dataframe_adult.shape)\n",
    "dataframe_adult"
   ]
  },
  {
   "cell_type": "markdown",
   "metadata": {},
   "source": [
    "# Transformation of categorical variables"
   ]
  },
  {
   "cell_type": "code",
   "execution_count": 22,
   "metadata": {},
   "outputs": [
    {
     "name": "stdout",
     "output_type": "stream",
     "text": [
      "-------------- predict --------------\n",
      "[[39 ' State-gov' 77516 ... 0 40 ' United-States']\n",
      " [50 ' Self-emp-not-inc' 83311 ... 0 13 ' United-States']\n",
      " [38 ' Private' 215646 ... 0 40 ' United-States']\n",
      " ...\n",
      " [58 ' Private' 151910 ... 0 40 ' United-States']\n",
      " [22 ' Private' 201490 ... 0 20 ' United-States']\n",
      " [52 ' Self-emp-inc' 287927 ... 0 40 ' United-States']]\n",
      "\n",
      "\n",
      "-------------- classes --------------\n",
      "[' <=50K' ' <=50K' ' <=50K' ... ' <=50K' ' <=50K' ' >50K']\n"
     ]
    }
   ],
   "source": [
    "predict_adult = dataframe_adult.iloc[:,0:14].values\n",
    "print('-------------- predict --------------')\n",
    "print(predict_adult)\n",
    "classes_adult = dataframe_adult.iloc[:, 14].values\n",
    "print('\\n')\n",
    "print('-------------- classes --------------')\n",
    "print(classes_adult)"
   ]
  },
  {
   "cell_type": "code",
   "execution_count": 23,
   "metadata": {},
   "outputs": [
    {
     "data": {
      "text/plain": [
       "array([[39, 7, 77516, ..., 0, 40, 39],\n",
       "       [50, 6, 83311, ..., 0, 13, 39],\n",
       "       [38, 4, 215646, ..., 0, 40, 39],\n",
       "       ...,\n",
       "       [58, 4, 151910, ..., 0, 40, 39],\n",
       "       [22, 4, 201490, ..., 0, 20, 39],\n",
       "       [52, 5, 287927, ..., 0, 40, 39]], dtype=object)"
      ]
     },
     "execution_count": 23,
     "metadata": {},
     "output_type": "execute_result"
    }
   ],
   "source": [
    "from sklearn.preprocessing import LabelEncoder\n",
    "labelencoder_predict = LabelEncoder()\n",
    "'''\n",
    "predict_adult[:, 1] = labelencoder_predict.fit_transform(predict_adult[:, 1])\n",
    "predict_adult[:, 3] = labelencoder_predict.fit_transform(predict_adult[:, 3])\n",
    "predict_adult[:, 5] = labelencoder_predict.fit_transform(predict_adult[:, 5])\n",
    "predict_adult[:, 6] = labelencoder_predict.fit_transform(predict_adult[:, 6])\n",
    "predict_adult[:, 7] = labelencoder_predict.fit_transform(predict_adult[:, 7])\n",
    "predict_adult[:, 8] = labelencoder_predict.fit_transform(predict_adult[:, 8])\n",
    "predict_adult[:, 9] = labelencoder_predict.fit_transform(predict_adult[:, 9])\n",
    "predict_adult[:, 13] = labelencoder_predict.fit_transform(predict_adult[:, 13])\n",
    "'''\n",
    "labels = np.array([1,3,5,6,7,8,9,13])\n",
    "def LabelEncoderAll(vet):\n",
    "    for i in vet:\n",
    "        predict_adult[:, i] = labelencoder_predict.fit_transform(predict_adult[:, i])\n",
    "        \n",
    "LabelEncoderAll(labels)\n",
    "predict_adult"
   ]
  },
  {
   "cell_type": "code",
   "execution_count": 24,
   "metadata": {},
   "outputs": [
    {
     "name": "stdout",
     "output_type": "stream",
     "text": [
      "[[4]\n",
      " [4]\n",
      " [4]\n",
      " ...\n",
      " [4]\n",
      " [4]\n",
      " [4]]\n",
      "-------------- before --------------\n",
      "[[4]\n",
      " [4]\n",
      " [4]\n",
      " ...\n",
      " [4]\n",
      " [4]\n",
      " [4]]\n",
      "-------------- after --------------\n",
      "[[0. 0. 0. 0. 1.]\n",
      " [0. 0. 0. 0. 1.]\n",
      " [0. 0. 0. 0. 1.]\n",
      " ...\n",
      " [0. 0. 0. 0. 1.]\n",
      " [0. 0. 0. 0. 1.]\n",
      " [0. 0. 0. 0. 1.]]\n"
     ]
    }
   ],
   "source": [
    "'''\n",
    "We have that the race attribute how to EXAMPLE, after the past transformation had its values changed to numerical variables, \n",
    "but because there is no better race than the other, we need to do another transformation.\n",
    "This transformation will not let the algorithm understand that because a race has a higher value, \n",
    "it does not mean that it is better, they all have the same value.\n",
    "'''\n",
    "from sklearn.preprocessing import OneHotEncoder\n",
    "from sklearn.compose import ColumnTransformer\n",
    "# Races column \n",
    "transformed_predict_adult = predict_adult[:, 8:9]\n",
    "print(transformed_predict_adult)\n",
    "onehotencorder = ColumnTransformer(transformers=[(\"OneHot\", OneHotEncoder(), [0])],remainder='passthrough')\n",
    "transformed_predict_adult = onehotencorder.fit_transform(transformed_predict_adult).toarray()\n",
    "print('-------------- before --------------')\n",
    "print(predict_adult[:, 8:9])\n",
    "print('-------------- after --------------')\n",
    "print(transformed_predict_adult)"
   ]
  },
  {
   "cell_type": "code",
   "execution_count": 25,
   "metadata": {},
   "outputs": [
    {
     "name": "stdout",
     "output_type": "stream",
     "text": [
      "(32561, 14)\n",
      "(32561, 108)\n"
     ]
    }
   ],
   "source": [
    "'''\n",
    "Now doing for all other values.\n",
    "'''\n",
    "print(predict_adult.shape)\n",
    "onehotencorder = ColumnTransformer(transformers=[(\"OneHot\", OneHotEncoder(), [1,3,5,6,7,8,9,13])],remainder='passthrough')\n",
    "predict_adult = onehotencorder.fit_transform(predict_adult).toarray()\n",
    "print(predict_adult.shape)"
   ]
  },
  {
   "cell_type": "code",
   "execution_count": 26,
   "metadata": {},
   "outputs": [
    {
     "data": {
      "text/plain": [
       "array([0, 0, 0, ..., 0, 0, 1])"
      ]
     },
     "execution_count": 26,
     "metadata": {},
     "output_type": "execute_result"
    }
   ],
   "source": [
    "'''\n",
    "Now we just need to transform our classes\n",
    "'''\n",
    "labelencorder_classes = LabelEncoder()\n",
    "classes_adult = labelencorder_classes.fit_transform(classes_adult)\n",
    "classes_adult"
   ]
  },
  {
   "cell_type": "markdown",
   "metadata": {},
   "source": [
    "# Scaling of attributes"
   ]
  },
  {
   "cell_type": "code",
   "execution_count": 27,
   "metadata": {},
   "outputs": [
    {
     "data": {
      "text/plain": [
       "array([[-0.2444502 , -0.17429511, -0.26209736, ...,  0.1484529 ,\n",
       "        -0.21665953, -0.03542945],\n",
       "       [-0.2444502 , -0.17429511, -0.26209736, ..., -0.14592048,\n",
       "        -0.21665953, -2.22215312],\n",
       "       [-0.2444502 , -0.17429511, -0.26209736, ..., -0.14592048,\n",
       "        -0.21665953, -0.03542945],\n",
       "       ...,\n",
       "       [-0.2444502 , -0.17429511, -0.26209736, ..., -0.14592048,\n",
       "        -0.21665953, -0.03542945],\n",
       "       [-0.2444502 , -0.17429511, -0.26209736, ..., -0.14592048,\n",
       "        -0.21665953, -1.65522476],\n",
       "       [-0.2444502 , -0.17429511, -0.26209736, ...,  1.88842434,\n",
       "        -0.21665953, -0.03542945]])"
      ]
     },
     "execution_count": 27,
     "metadata": {},
     "output_type": "execute_result"
    }
   ],
   "source": [
    "'''\n",
    "In EXAMPLE KNN algorithms, which use Euclidean distance, scaling the data will make your algorithm run much faster, \n",
    "that is, better performance.\n",
    "'''\n",
    "from sklearn.preprocessing import StandardScaler\n",
    "scaler = StandardScaler()\n",
    "predict_adult = scaler.fit_transform(predict_adult)\n",
    "predict_adult"
   ]
  },
  {
   "cell_type": "markdown",
   "metadata": {},
   "source": [
    "# Credit dataset split for testing and training"
   ]
  },
  {
   "cell_type": "code",
   "execution_count": 28,
   "metadata": {},
   "outputs": [
    {
     "name": "stdout",
     "output_type": "stream",
     "text": [
      "40.92770044906149\n",
      "(1500, 3) (500, 3) (1500,) (500,)\n"
     ]
    }
   ],
   "source": [
    "'''\n",
    "Now after the data pre-processing studies we will see in practice how to make use of this database.\n",
    "\n",
    "Now let's import the database from 0, do the correct treatments for that database and data again and divide the data \n",
    "for training and testing.\n",
    "'''\n",
    "import pandas as pd\n",
    "import numpy as np\n",
    "from sklearn.impute import SimpleImputer\n",
    "from sklearn.model_selection import train_test_split\n",
    "\n",
    "dataframe = pd.read_csv('./datasets/credit_data.csv')\n",
    "\n",
    "#Removing the negative data from the dataset and replacing them with the average.\n",
    "df_mean = dataframe['age'][dataframe.age > 0].mean()\n",
    "print(df_mean)\n",
    "dataframe.loc[dataframe['age'] < 0] = df_mean\n",
    "\n",
    "#Separating input data from classes\n",
    "predict = dataframe.iloc[:, 1:4].values\n",
    "classes = dataframe.iloc[:, 4].values\n",
    "\n",
    "#Removing the NaN data from the dataset and replacing them with the average.\n",
    "imputer = SimpleImputer(missing_values = np.nan, strategy = 'mean')\n",
    "imputer = imputer.fit(predict[:, 1:4])\n",
    "predict[:, 1:4] = imputer.transform(predict[:, 1:4])\n",
    "\n",
    "#Now separating the data into training and test data.\n",
    "predict_training, predict_test, classes_training, classes_test = train_test_split(predict, classes, test_size=0.25, random_state=0)\n",
    "print(predict_training.shape, predict_test.shape, classes_training.shape, classes_test.shape)"
   ]
  },
  {
   "cell_type": "markdown",
   "metadata": {},
   "source": [
    "# Census dataset split for testing and training"
   ]
  },
  {
   "cell_type": "code",
   "execution_count": 29,
   "metadata": {},
   "outputs": [
    {
     "name": "stdout",
     "output_type": "stream",
     "text": [
      "shape of dataset (32561, 15)\n",
      "(27676, 108) (4885, 108) (27676,) (4885,)\n"
     ]
    }
   ],
   "source": [
    "import pandas as pd\n",
    "import numpy as np\n",
    "from sklearn.preprocessing import LabelEncoder, OneHotEncoder\n",
    "from sklearn.compose import ColumnTransformer\n",
    "from sklearn.preprocessing import StandardScaler\n",
    "from sklearn.model_selection import train_test_split\n",
    "\n",
    "dataframe = pd.read_csv('./datasets/census.csv')\n",
    "print('shape of dataset',dataframe.shape)\n",
    "\n",
    "#Separating input data from classes\n",
    "predict = dataframe.iloc[:, 0:14].values\n",
    "classes = dataframe.iloc[:, 14].values\n",
    "#Properly transforming the dataset\n",
    "column_tranformer = ColumnTransformer([('one_hot_encoder', OneHotEncoder(), [1, 3, 5, 6, 7, 8, 9, 13])],remainder='passthrough')\n",
    "predict = column_tranformer.fit_transform(predict).toarray()\n",
    "\n",
    "labelencoder_classes = LabelEncoder()\n",
    "classes = labelencoder_classes.fit_transform(classes)\n",
    "\n",
    "scaler = StandardScaler()\n",
    "predict = scaler.fit_transform(predict)\n",
    "\n",
    "#Now separating the data into training and test data.\n",
    "predict_training, predict_test, classes_training, classes_test = train_test_split(predict, classes, test_size=0.15, random_state=0)\n",
    "print(predict_training.shape, predict_test.shape, classes_training.shape, classes_test.shape)"
   ]
  },
  {
   "cell_type": "code",
   "execution_count": null,
   "metadata": {},
   "outputs": [],
   "source": []
  }
 ],
 "metadata": {
  "kernelspec": {
   "display_name": "Python 3",
   "language": "python",
   "name": "python3"
  },
  "language_info": {
   "codemirror_mode": {
    "name": "ipython",
    "version": 3
   },
   "file_extension": ".py",
   "mimetype": "text/x-python",
   "name": "python",
   "nbconvert_exporter": "python",
   "pygments_lexer": "ipython3",
   "version": "3.8.3"
  }
 },
 "nbformat": 4,
 "nbformat_minor": 4
}
