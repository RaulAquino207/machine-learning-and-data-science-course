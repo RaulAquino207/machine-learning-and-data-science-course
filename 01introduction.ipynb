{
 "cells": [
  {
   "cell_type": "markdown",
   "metadata": {},
   "source": [
    "# Introduction\n",
    "\n",
    "## Basic concepts about machine learning"
   ]
  },
  {
   "cell_type": "markdown",
   "metadata": {},
   "source": [
    "## Part 1 - Classification\n",
    "> Pre-processing, Naive Bayes, Decision Trees, Instances, Logistic Regression, Support Vector Machines, Artificial Neural Networks, Algorithm Evaluation, Classifier Combination and Rejection, Good or Low Pay Database, Data Forecasting Database salary class \n",
    "\n",
    "## Part 2 - Regression\n",
    "> Linear Regression, Polynomial Regression, Decision Trees, Random Forest, Support Vectors, Artificial Neural Networks, Health Insurance Database, House Price Prediction Base\n",
    "\n",
    "## Part 3 - Association Rules\n",
    "> Apriori Algorithm, ECLAT Algorithm, market database\n",
    "\n",
    "## Part 4 - Clustering\n",
    "> K-means, Hierarchical grouping, DBSCAN, credit card spending database\n",
    "\n",
    "## Part 5 - Complementary topics\n",
    "> Complementary topics"
   ]
  },
  {
   "cell_type": "markdown",
   "metadata": {},
   "source": [
    "# terminology\n",
    "## Artificial Intelligence\n",
    "\n",
    "`Expert systems`\n",
    "\n",
    "`Computer vision`\n",
    "\n",
    "`Machine learning`\n",
    "\n",
    "`Natural language processing`\n",
    "\n",
    "`Genetic algorithms`\n",
    "\n",
    "`Multiagent systems`\n",
    "\n",
    "`Data mining`\n",
    "\n",
    "`Resolution through search`\n",
    "\n",
    "`Fuzzy logic (nebula)`\n",
    "\n",
    "`Case-based reasoning`\n",
    "\n",
    "`Neural networks`\n",
    "\n",
    "`Robotics`"
   ]
  },
  {
   "cell_type": "markdown",
   "metadata": {},
   "source": [
    "# Machine Learning\n",
    "### Predictive methods\n",
    "> Classification and Regression\n",
    "\n",
    "### Descriptive methods\n",
    "> Association, Grouping, Detection of deviations(outliers), Sequential patterns and Summarization"
   ]
  },
  {
   "cell_type": "markdown",
   "metadata": {},
   "source": [
    "### Supervisioned\n",
    "> Classification and Regression\n",
    "\n",
    "### Unsupervised\n",
    "> Association, Grouping, Detection of deviations, Sequential patterns and Summarization\n",
    "\n",
    "### Reinforcement\n",
    "> Learning from interactions with the environment (cause and effect) and learn from your own experience"
   ]
  },
  {
   "cell_type": "markdown",
   "metadata": {},
   "source": [
    "# Introduction to Part 1 - Classification\n",
    ">Pre-processing and preparation of databases for classification\n",
    "\n",
    ">Bayesian learning (Naive Bayes algorithm)\n",
    "\n",
    ">Decision tree learning (basic tree algorithm and Random Forest)\n",
    "\n",
    ">Rule learning (OneR algorithm)\n",
    "\n",
    ">Instance-based learning (kNN algorithm)\n",
    "\n",
    ">Logistic regression\n",
    "\n",
    ">Support Vector Machines (SVM)\n",
    "\n",
    ">Artificial neural networks\n",
    "\n",
    ">Evaluation of classification algorithms\n",
    "\n",
    ">Classifier combination and rejection"
   ]
  },
  {
   "cell_type": "markdown",
   "metadata": {},
   "source": [
    "# Types of variables\n",
    "\n",
    "### Numeric\n",
    "> Continued(float)\n",
    "\n",
    "> Discreet(int)\n",
    "\n",
    "### Categorical (String)\n",
    "> Nominal(Non-measurable data)\n",
    "\n",
    "> Ordinal(Categorized by order)"
   ]
  }
 ],
 "metadata": {
  "kernelspec": {
   "display_name": "Python 3",
   "language": "python",
   "name": "python3"
  },
  "language_info": {
   "codemirror_mode": {
    "name": "ipython",
    "version": 3
   },
   "file_extension": ".py",
   "mimetype": "text/x-python",
   "name": "python",
   "nbconvert_exporter": "python",
   "pygments_lexer": "ipython3",
   "version": "3.8.3"
  }
 },
 "nbformat": 4,
 "nbformat_minor": 4
}
