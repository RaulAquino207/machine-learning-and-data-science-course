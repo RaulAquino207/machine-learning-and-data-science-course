{
 "cells": [
  {
   "cell_type": "code",
   "execution_count": 36,
   "metadata": {
    "scrolled": true
   },
   "outputs": [],
   "source": [
    "import pandas as pd\n",
    "import numpy as np\n",
    "dataframe = pd.read_csv('./datasets/credit_data.csv')"
   ]
  },
  {
   "cell_type": "code",
   "execution_count": 37,
   "metadata": {},
   "outputs": [
    {
     "data": {
      "text/html": [
       "<div>\n",
       "<style scoped>\n",
       "    .dataframe tbody tr th:only-of-type {\n",
       "        vertical-align: middle;\n",
       "    }\n",
       "\n",
       "    .dataframe tbody tr th {\n",
       "        vertical-align: top;\n",
       "    }\n",
       "\n",
       "    .dataframe thead th {\n",
       "        text-align: right;\n",
       "    }\n",
       "</style>\n",
       "<table border=\"1\" class=\"dataframe\">\n",
       "  <thead>\n",
       "    <tr style=\"text-align: right;\">\n",
       "      <th></th>\n",
       "      <th>idclientid</th>\n",
       "      <th>income</th>\n",
       "      <th>age</th>\n",
       "      <th>loan</th>\n",
       "      <th>default</th>\n",
       "    </tr>\n",
       "  </thead>\n",
       "  <tbody>\n",
       "    <tr>\n",
       "      <th>count</th>\n",
       "      <td>2000.000000</td>\n",
       "      <td>2000.000000</td>\n",
       "      <td>1997.000000</td>\n",
       "      <td>2000.000000</td>\n",
       "      <td>2000.000000</td>\n",
       "    </tr>\n",
       "    <tr>\n",
       "      <th>mean</th>\n",
       "      <td>1000.500000</td>\n",
       "      <td>45331.600018</td>\n",
       "      <td>40.807559</td>\n",
       "      <td>4444.369695</td>\n",
       "      <td>0.141500</td>\n",
       "    </tr>\n",
       "    <tr>\n",
       "      <th>std</th>\n",
       "      <td>577.494589</td>\n",
       "      <td>14326.327119</td>\n",
       "      <td>13.624469</td>\n",
       "      <td>3045.410024</td>\n",
       "      <td>0.348624</td>\n",
       "    </tr>\n",
       "    <tr>\n",
       "      <th>min</th>\n",
       "      <td>1.000000</td>\n",
       "      <td>20014.489470</td>\n",
       "      <td>-52.423280</td>\n",
       "      <td>1.377630</td>\n",
       "      <td>0.000000</td>\n",
       "    </tr>\n",
       "    <tr>\n",
       "      <th>25%</th>\n",
       "      <td>500.750000</td>\n",
       "      <td>32796.459717</td>\n",
       "      <td>28.990415</td>\n",
       "      <td>1939.708847</td>\n",
       "      <td>0.000000</td>\n",
       "    </tr>\n",
       "    <tr>\n",
       "      <th>50%</th>\n",
       "      <td>1000.500000</td>\n",
       "      <td>45789.117313</td>\n",
       "      <td>41.317159</td>\n",
       "      <td>3974.719419</td>\n",
       "      <td>0.000000</td>\n",
       "    </tr>\n",
       "    <tr>\n",
       "      <th>75%</th>\n",
       "      <td>1500.250000</td>\n",
       "      <td>57791.281668</td>\n",
       "      <td>52.587040</td>\n",
       "      <td>6432.410625</td>\n",
       "      <td>0.000000</td>\n",
       "    </tr>\n",
       "    <tr>\n",
       "      <th>max</th>\n",
       "      <td>2000.000000</td>\n",
       "      <td>69995.685578</td>\n",
       "      <td>63.971796</td>\n",
       "      <td>13766.051239</td>\n",
       "      <td>1.000000</td>\n",
       "    </tr>\n",
       "  </tbody>\n",
       "</table>\n",
       "</div>"
      ],
      "text/plain": [
       "        idclientid        income          age          loan      default\n",
       "count  2000.000000   2000.000000  1997.000000   2000.000000  2000.000000\n",
       "mean   1000.500000  45331.600018    40.807559   4444.369695     0.141500\n",
       "std     577.494589  14326.327119    13.624469   3045.410024     0.348624\n",
       "min       1.000000  20014.489470   -52.423280      1.377630     0.000000\n",
       "25%     500.750000  32796.459717    28.990415   1939.708847     0.000000\n",
       "50%    1000.500000  45789.117313    41.317159   3974.719419     0.000000\n",
       "75%    1500.250000  57791.281668    52.587040   6432.410625     0.000000\n",
       "max    2000.000000  69995.685578    63.971796  13766.051239     1.000000"
      ]
     },
     "execution_count": 37,
     "metadata": {},
     "output_type": "execute_result"
    }
   ],
   "source": [
    "dataframe.describe()"
   ]
  },
  {
   "cell_type": "code",
   "execution_count": 38,
   "metadata": {},
   "outputs": [
    {
     "data": {
      "text/html": [
       "<div>\n",
       "<style scoped>\n",
       "    .dataframe tbody tr th:only-of-type {\n",
       "        vertical-align: middle;\n",
       "    }\n",
       "\n",
       "    .dataframe tbody tr th {\n",
       "        vertical-align: top;\n",
       "    }\n",
       "\n",
       "    .dataframe thead th {\n",
       "        text-align: right;\n",
       "    }\n",
       "</style>\n",
       "<table border=\"1\" class=\"dataframe\">\n",
       "  <thead>\n",
       "    <tr style=\"text-align: right;\">\n",
       "      <th></th>\n",
       "      <th>idclientid</th>\n",
       "      <th>income</th>\n",
       "      <th>age</th>\n",
       "      <th>loan</th>\n",
       "      <th>default</th>\n",
       "    </tr>\n",
       "  </thead>\n",
       "  <tbody>\n",
       "    <tr>\n",
       "      <th>15</th>\n",
       "      <td>16</td>\n",
       "      <td>50501.726689</td>\n",
       "      <td>-28.218361</td>\n",
       "      <td>3977.287432</td>\n",
       "      <td>0</td>\n",
       "    </tr>\n",
       "    <tr>\n",
       "      <th>21</th>\n",
       "      <td>22</td>\n",
       "      <td>32197.620701</td>\n",
       "      <td>-52.423280</td>\n",
       "      <td>4244.057136</td>\n",
       "      <td>0</td>\n",
       "    </tr>\n",
       "    <tr>\n",
       "      <th>26</th>\n",
       "      <td>27</td>\n",
       "      <td>63287.038908</td>\n",
       "      <td>-36.496976</td>\n",
       "      <td>9595.286289</td>\n",
       "      <td>0</td>\n",
       "    </tr>\n",
       "  </tbody>\n",
       "</table>\n",
       "</div>"
      ],
      "text/plain": [
       "    idclientid        income        age         loan  default\n",
       "15          16  50501.726689 -28.218361  3977.287432        0\n",
       "21          22  32197.620701 -52.423280  4244.057136        0\n",
       "26          27  63287.038908 -36.496976  9595.286289        0"
      ]
     },
     "execution_count": 38,
     "metadata": {},
     "output_type": "execute_result"
    }
   ],
   "source": [
    "'''\n",
    "As we can see at an age with negative values and that is incorrect, through the loc function, \n",
    "we can find these lines with the wrong values.\n",
    "'''\n",
    "dataframe.loc[dataframe['age'] < 0]"
   ]
  },
  {
   "cell_type": "code",
   "execution_count": 39,
   "metadata": {},
   "outputs": [
    {
     "data": {
      "text/html": [
       "<div>\n",
       "<style scoped>\n",
       "    .dataframe tbody tr th:only-of-type {\n",
       "        vertical-align: middle;\n",
       "    }\n",
       "\n",
       "    .dataframe tbody tr th {\n",
       "        vertical-align: top;\n",
       "    }\n",
       "\n",
       "    .dataframe thead th {\n",
       "        text-align: right;\n",
       "    }\n",
       "</style>\n",
       "<table border=\"1\" class=\"dataframe\">\n",
       "  <thead>\n",
       "    <tr style=\"text-align: right;\">\n",
       "      <th></th>\n",
       "      <th>idclientid</th>\n",
       "      <th>income</th>\n",
       "      <th>age</th>\n",
       "      <th>loan</th>\n",
       "      <th>default</th>\n",
       "    </tr>\n",
       "  </thead>\n",
       "  <tbody>\n",
       "  </tbody>\n",
       "</table>\n",
       "</div>"
      ],
      "text/plain": [
       "Empty DataFrame\n",
       "Columns: [idclientid, income, age, loan, default]\n",
       "Index: []"
      ]
     },
     "execution_count": 39,
     "metadata": {},
     "output_type": "execute_result"
    }
   ],
   "source": [
    "'''\n",
    "How to solve this problem\n",
    "\n",
    "In this way we will exclude the entire age column, which is not a good solution.\n",
    "dataframe.drop('age', 1, inplace=True)\n",
    "\n",
    "And this way we will exclude only the lines with problematic values.\n",
    "dataframe.drop(dataframe[dataframe.age < 0].index, inplace=True)\n",
    "'''\n",
    "dataframe.drop(dataframe[dataframe.age < 0].index, inplace=True)\n",
    "dataframe.loc[dataframe['age'] < 0]"
   ]
  },
  {
   "cell_type": "code",
   "execution_count": 40,
   "metadata": {},
   "outputs": [
    {
     "name": "stdout",
     "output_type": "stream",
     "text": [
      "negative age values\n",
      "    idclientid        income        age         loan  default\n",
      "15          16  50501.726689 -28.218361  3977.287432        0\n",
      "21          22  32197.620701 -52.423280  4244.057136        0\n",
      "26          27  63287.038908 -36.496976  9595.286289        0\n",
      "\n",
      "\n",
      "Average of values WITH and WITHOUT negative values\n",
      "40.80755937840458\n",
      "40.92770044906149\n",
      "\n",
      "\n",
      "Showing only the values in which they were negative and are now with the DF average value\n",
      "    idclientid        income      age         loan  default\n",
      "15          16  50501.726689  40.9277  3977.287432        0\n",
      "21          22  32197.620701  40.9277  4244.057136        0\n",
      "26          27  63287.038908  40.9277  9595.286289        0\n"
     ]
    }
   ],
   "source": [
    "'''\n",
    "Loading the dataset again to return the previously removed negative values\n",
    "'''\n",
    "dataframe = pd.read_csv('./datasets/credit_data.csv')\n",
    "print('negative age values')\n",
    "print(dataframe.loc[dataframe['age'] < 0])\n",
    "\n",
    "'''\n",
    "Another solution would be to replace the age values of these people who are negative,\n",
    "for the mean of all ages present in the data set (excluding negative values from the mean)\n",
    "'''\n",
    "print('\\n')\n",
    "print('Average of values WITH and WITHOUT negative values')\n",
    "print(dataframe['age'].mean())\n",
    "print(dataframe['age'][dataframe.age > 0].mean())\n",
    "mean_df = dataframe['age'][dataframe.age > 0].mean()\n",
    "dataframe.loc[dataframe.age < 0, 'age'] = mean_df\n",
    "print('\\n')\n",
    "print('Showing only the values in which they were negative and are now with the DF average value')\n",
    "print(dataframe.loc[dataframe['age'] == mean_df])"
   ]
  },
  {
   "cell_type": "code",
   "execution_count": 88,
   "metadata": {},
   "outputs": [
    {
     "name": "stdout",
     "output_type": "stream",
     "text": [
      "negative age values\n",
      "    idclientid        income        age         loan  default\n",
      "15          16  50501.726689 -28.218361  3977.287432        0\n",
      "21          22  32197.620701 -52.423280  4244.057136        0\n",
      "26          27  63287.038908 -36.496976  9595.286289        0\n"
     ]
    }
   ],
   "source": [
    "'''\n",
    "Loading the dataset again to return the previously removed negative values\n",
    "'''\n",
    "dataframe = pd.read_csv('./datasets/credit_data.csv')\n",
    "print('negative age values')\n",
    "print(dataframe.loc[dataframe['age'] < 0])\n",
    "'''\n",
    "Now an idea that I had that the course teacher did not give, \n",
    "which consists of taking each of the values and multiplying them by -1\n",
    "'''\n",
    "indexs = dataframe.loc[dataframe.age < 0].index\n",
    "ages = dataframe.loc[dataframe.age < 0]['age']\n",
    "for i in indexs:\n",
    "    dataframe.loc[dataframe.index == i, 'age'] = ages[i] * (-1)\n",
    "    #print(dataframe.loc[dataframe.index == i])"
   ]
  },
  {
   "cell_type": "code",
   "execution_count": null,
   "metadata": {},
   "outputs": [],
   "source": []
  }
 ],
 "metadata": {
  "kernelspec": {
   "display_name": "Python 3",
   "language": "python",
   "name": "python3"
  },
  "language_info": {
   "codemirror_mode": {
    "name": "ipython",
    "version": 3
   },
   "file_extension": ".py",
   "mimetype": "text/x-python",
   "name": "python",
   "nbconvert_exporter": "python",
   "pygments_lexer": "ipython3",
   "version": "3.8.3"
  }
 },
 "nbformat": 4,
 "nbformat_minor": 4
}
